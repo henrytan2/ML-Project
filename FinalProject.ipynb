{
 "cells": [
  {
   "cell_type": "code",
   "execution_count": 2,
   "metadata": {
    "collapsed": true
   },
   "outputs": [],
   "source": [
    "import pandas as pd\n",
    "\n",
    "# confirmed_cases_4_1 = pd.read_csv('confirmed_cases_10_9_2021 .csv')\n",
    "# vaccines_administered_csv = pd.read_csv('time_series_covid19_vaccine_doses_admin_US.csv')\n",
    "#\n",
    "# vaccines_administered_col = []\n",
    "# for index, row in confirmed_cases_4_1.iterrows():\n",
    "#     state = row['Province_State']\n",
    "#     vaccines_administered = vaccines_administered_csv.loc[vaccines_administered_csv['Province_State'] == state]['2021-10-09']\n",
    "#     vaccines_administered_col.append(int(vaccines_administered))\n",
    "# confirmed_cases_4_1['vaccine_doses_administered_in_state'] = vaccines_administered_col\n",
    "#\n",
    "# confirmed_cases_4_1.to_csv('confirmed_cases_10_9_2021.csv', index=False)"
   ]
  },
  {
   "cell_type": "code",
   "execution_count": 20,
   "outputs": [],
   "source": [
    "demographic_df = pd.read_csv('cc-est2019-alldata.csv', encoding=\"ISO-8859-1\")\n",
    "county_names = list(set(demographic_df['CTYNAME']))\n",
    "county_names_sorted = []\n",
    "for c in county_names:\n",
    "    county_names_sorted.append(c)\n",
    "county_names_sorted = sorted(county_names_sorted)\n",
    "white_pop = []\n",
    "black_pop = []\n",
    "asian_pop = []\n",
    "hisp_pop = []\n",
    "for c in county_names_sorted:\n",
    "    county_rows = demographic_df.loc[demographic_df['CTYNAME'] == c]\n",
    "    white_males = sum([int(x) for x in county_rows['WA_MALE']])\n",
    "    white_females = sum([int(x) for x in county_rows['WA_FEMALE']])\n",
    "    black_males = sum([int(x) for x in county_rows['BA_MALE']])\n",
    "    black_females = sum([int(x) for x in county_rows['BA_FEMALE']])\n",
    "    asian_males = sum([int(x) for x in county_rows['AA_MALE']])\n",
    "    asian_females = sum([int(x) for x in county_rows['AA_FEMALE']])\n",
    "    hisp_male = sum([int(x) for x in county_rows['H_MALE']])\n",
    "    hisp_female = sum([int(x) for x in county_rows['H_FEMALE']])\n",
    "    white = white_males + white_females\n",
    "    black = black_males + black_males\n",
    "    asian = asian_males + asian_males\n",
    "    hisp = hisp_male + hisp_female\n",
    "    white_pop.append(white)\n",
    "    asian_pop.append(asian)\n",
    "    black_pop.append(black)\n",
    "    hisp_pop.append(hisp)\n",
    "\n",
    "demo_df = pd.DataFrame({\n",
    "    'county_name': county_names_sorted,\n",
    "    'white_pop': white_pop,\n",
    "    'black_pop': black_pop,\n",
    "    'asian_pop': asian_pop,\n",
    "    'hisp_pop': hisp_pop,\n",
    "})\n",
    "\n",
    "demo_df.to_csv('racial_demographics.csv', index=False)"
   ],
   "metadata": {
    "collapsed": false,
    "pycharm": {
     "name": "#%%\n"
    }
   }
  },
  {
   "cell_type": "code",
   "execution_count": 45,
   "outputs": [
    {
     "data": {
      "text/plain": "     county_name  white_pop  black_pop  asian_pop  hisp_pop\n0        Autauga    85214.0    20948.0     1144.0    3342.0\n1        Baldwin   438906.0    76452.0     5228.0   23170.0\n2        Barbour    55990.0    25612.0      292.0    2600.0\n3           Bibb   156836.0   167256.0     6440.0   11940.0\n4         Blount   360348.0    10508.0     2496.0   20794.0\n...          ...        ...        ...        ...       ...\n2875  Sweetwater    79396.0     1388.0      812.0   13544.0\n2876       Teton    79636.0      564.0      768.0   11366.0\n2877       Uinta    38554.0      308.0      152.0    3742.0\n2878    Washakie    14754.0      100.0      100.0    2216.0\n2879      Weston    12908.0      128.0      136.0     570.0\n\n[2880 rows x 5 columns]",
      "text/html": "<div>\n<style scoped>\n    .dataframe tbody tr th:only-of-type {\n        vertical-align: middle;\n    }\n\n    .dataframe tbody tr th {\n        vertical-align: top;\n    }\n\n    .dataframe thead th {\n        text-align: right;\n    }\n</style>\n<table border=\"1\" class=\"dataframe\">\n  <thead>\n    <tr style=\"text-align: right;\">\n      <th></th>\n      <th>county_name</th>\n      <th>white_pop</th>\n      <th>black_pop</th>\n      <th>asian_pop</th>\n      <th>hisp_pop</th>\n    </tr>\n  </thead>\n  <tbody>\n    <tr>\n      <th>0</th>\n      <td>Autauga</td>\n      <td>85214.0</td>\n      <td>20948.0</td>\n      <td>1144.0</td>\n      <td>3342.0</td>\n    </tr>\n    <tr>\n      <th>1</th>\n      <td>Baldwin</td>\n      <td>438906.0</td>\n      <td>76452.0</td>\n      <td>5228.0</td>\n      <td>23170.0</td>\n    </tr>\n    <tr>\n      <th>2</th>\n      <td>Barbour</td>\n      <td>55990.0</td>\n      <td>25612.0</td>\n      <td>292.0</td>\n      <td>2600.0</td>\n    </tr>\n    <tr>\n      <th>3</th>\n      <td>Bibb</td>\n      <td>156836.0</td>\n      <td>167256.0</td>\n      <td>6440.0</td>\n      <td>11940.0</td>\n    </tr>\n    <tr>\n      <th>4</th>\n      <td>Blount</td>\n      <td>360348.0</td>\n      <td>10508.0</td>\n      <td>2496.0</td>\n      <td>20794.0</td>\n    </tr>\n    <tr>\n      <th>...</th>\n      <td>...</td>\n      <td>...</td>\n      <td>...</td>\n      <td>...</td>\n      <td>...</td>\n    </tr>\n    <tr>\n      <th>2875</th>\n      <td>Sweetwater</td>\n      <td>79396.0</td>\n      <td>1388.0</td>\n      <td>812.0</td>\n      <td>13544.0</td>\n    </tr>\n    <tr>\n      <th>2876</th>\n      <td>Teton</td>\n      <td>79636.0</td>\n      <td>564.0</td>\n      <td>768.0</td>\n      <td>11366.0</td>\n    </tr>\n    <tr>\n      <th>2877</th>\n      <td>Uinta</td>\n      <td>38554.0</td>\n      <td>308.0</td>\n      <td>152.0</td>\n      <td>3742.0</td>\n    </tr>\n    <tr>\n      <th>2878</th>\n      <td>Washakie</td>\n      <td>14754.0</td>\n      <td>100.0</td>\n      <td>100.0</td>\n      <td>2216.0</td>\n    </tr>\n    <tr>\n      <th>2879</th>\n      <td>Weston</td>\n      <td>12908.0</td>\n      <td>128.0</td>\n      <td>136.0</td>\n      <td>570.0</td>\n    </tr>\n  </tbody>\n</table>\n<p>2880 rows × 5 columns</p>\n</div>"
     },
     "execution_count": 45,
     "metadata": {},
     "output_type": "execute_result"
    }
   ],
   "source": [
    "master_df = pd.read_csv('confirmed_cases_5_1_2020.csv')\n",
    "new_df = pd.DataFrame({\n",
    "    'county_name': [],\n",
    "    'white_pop': [],\n",
    "    'black_pop': [],\n",
    "    'asian_pop': [],\n",
    "    'hisp_pop': [],\n",
    "})\n",
    "for index, row in master_df.iterrows():\n",
    "    entry = demo_df.loc[demo_df['county_name'] == row['Admin2']]\n",
    "    # entry.drop('county_name', axis=1, inplace=True)\n",
    "    if len(entry) != 0:\n",
    "        new_entry = {\n",
    "            'county_name': entry['county_name'],\n",
    "            'white_pop': int(entry['white_pop']),\n",
    "            'black_pop': int(entry['black_pop']),\n",
    "            'asian_pop': int(entry['asian_pop']),\n",
    "            'hisp_pop': int(entry['hisp_pop']),\n",
    "        }\n",
    "        new_df = new_df.append(pd.DataFrame(new_entry), ignore_index=True)\n",
    "new_df"
   ],
   "metadata": {
    "collapsed": false,
    "pycharm": {
     "name": "#%%\n"
    }
   }
  },
  {
   "cell_type": "code",
   "execution_count": 58,
   "outputs": [
    {
     "name": "stdout",
     "output_type": "stream",
     "text": [
      "          Admin2 Province_State Country_Region        Lat       Long_  \\\n",
      "0        Autauga        Alabama             US  32.539527  -86.644082   \n",
      "1        Baldwin        Alabama             US  30.727750  -87.722071   \n",
      "2        Barbour        Alabama             US  31.868263  -85.387129   \n",
      "3           Bibb        Alabama             US  32.996421  -87.125115   \n",
      "4         Blount        Alabama             US  33.982109  -86.567906   \n",
      "...          ...            ...            ...        ...         ...   \n",
      "3229  Sweetwater        Wyoming             US  41.659439 -108.882788   \n",
      "3230       Teton        Wyoming             US  43.935225 -110.589080   \n",
      "3231       Uinta        Wyoming             US  41.287818 -110.547578   \n",
      "3232    Washakie        Wyoming             US  43.904516 -107.680187   \n",
      "3233      Weston        Wyoming             US  43.839612 -104.567488   \n",
      "\n",
      "                 Combined_Key  vaccine_doses_administered_in_state  \\\n",
      "0        Autauga, Alabama, US                              4630089   \n",
      "1        Baldwin, Alabama, US                              4630089   \n",
      "2        Barbour, Alabama, US                              4630089   \n",
      "3           Bibb, Alabama, US                              4630089   \n",
      "4         Blount, Alabama, US                              4630089   \n",
      "...                       ...                                  ...   \n",
      "3229  Sweetwater, Wyoming, US                               536884   \n",
      "3230       Teton, Wyoming, US                               536884   \n",
      "3231       Uinta, Wyoming, US                               536884   \n",
      "3232    Washakie, Wyoming, US                               536884   \n",
      "3233      Weston, Wyoming, US                               536884   \n",
      "\n",
      "      confirmed_cases  deaths white_pop black_pop asian_pop hisp_pop  \n",
      "0                9843     144     85214     20948      1144     3342  \n",
      "1               36870     532    438906     76452      5228    23170  \n",
      "2                3545      74     55990     25612       292     2600  \n",
      "3                4192      86    156836    167256      6440    11940  \n",
      "4                9998     172    360348     10508      2496    20794  \n",
      "...               ...     ...       ...       ...       ...      ...  \n",
      "3229             7146      70     79396      1388       812    13544  \n",
      "3230             4984      13     79636       564       768    11366  \n",
      "3231             3660      26     38554       308       152     3742  \n",
      "3232             1486      29     14754       100       100     2216  \n",
      "3233              947       8     12908       128       136      570  \n",
      "\n",
      "[3234 rows x 13 columns]\n"
     ]
    }
   ],
   "source": [
    "racial_demographics_df = pd.read_csv('racial_demographics.csv')\n",
    "master_df = pd.read_csv('confirmed_deaths_10_9_2021.csv')\n",
    "master_df['white_pop'] = ''\n",
    "master_df['black_pop'] = ''\n",
    "master_df['asian_pop'] = ''\n",
    "master_df['hisp_pop'] = ''\n",
    "for index, row in master_df.iterrows():\n",
    "    county = row['Admin2']\n",
    "    county_row = racial_demographics_df.loc[racial_demographics_df['county_name'] == county]\n",
    "    if len(county_row) > 0:\n",
    "        white_pop = county_row['white_pop']\n",
    "        black_pop = county_row['black_pop']\n",
    "        asian_pop = county_row['asian_pop']\n",
    "        hisp_pop = county_row['hisp_pop']\n",
    "        master_df.at[index, 'white_pop'] = int(white_pop)\n",
    "        master_df.at[index, 'black_pop'] = int(black_pop)\n",
    "        master_df.at[index, 'asian_pop'] = int(asian_pop)\n",
    "        master_df.at[index, 'hisp_pop'] = int(hisp_pop)\n",
    "print(master_df)\n",
    "master_df.to_csv('confirmed_deaths_10_9_2021.csv', index=False)"
   ],
   "metadata": {
    "collapsed": false,
    "pycharm": {
     "name": "#%%\n"
    }
   }
  }
 ],
 "metadata": {
  "kernelspec": {
   "display_name": "Python 3",
   "language": "python",
   "name": "python3"
  },
  "language_info": {
   "codemirror_mode": {
    "name": "ipython",
    "version": 2
   },
   "file_extension": ".py",
   "mimetype": "text/x-python",
   "name": "python",
   "nbconvert_exporter": "python",
   "pygments_lexer": "ipython2",
   "version": "2.7.6"
  }
 },
 "nbformat": 4,
 "nbformat_minor": 0
}