{
 "cells": [
  {
   "cell_type": "code",
   "execution_count": 19,
   "metadata": {
    "collapsed": true
   },
   "outputs": [],
   "source": [
    "import pandas as pd\n",
    "\n",
    "confirmed_cases_4_1 = pd.read_csv('confirmed_cases_10_9_2021 .csv')\n",
    "vaccines_administered_csv = pd.read_csv('time_series_covid19_vaccine_doses_admin_US.csv')\n",
    "\n",
    "vaccines_administered_col = []\n",
    "for index, row in confirmed_cases_4_1.iterrows():\n",
    "    state = row['Province_State']\n",
    "    vaccines_administered = vaccines_administered_csv.loc[vaccines_administered_csv['Province_State'] == state]['2021-10-09']\n",
    "    vaccines_administered_col.append(int(vaccines_administered))\n",
    "confirmed_cases_4_1['vaccine_doses_administered_in_state'] = vaccines_administered_col\n",
    "\n",
    "confirmed_cases_4_1.to_csv('confirmed_cases_10_9_2021.csv', index=False)\n"
   ]
  }
 ],
 "metadata": {
  "kernelspec": {
   "display_name": "Python 3",
   "language": "python",
   "name": "python3"
  },
  "language_info": {
   "codemirror_mode": {
    "name": "ipython",
    "version": 2
   },
   "file_extension": ".py",
   "mimetype": "text/x-python",
   "name": "python",
   "nbconvert_exporter": "python",
   "pygments_lexer": "ipython2",
   "version": "2.7.6"
  }
 },
 "nbformat": 4,
 "nbformat_minor": 0
}