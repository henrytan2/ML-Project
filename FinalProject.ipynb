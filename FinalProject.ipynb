{
 "cells": [
  {
   "cell_type": "code",
   "execution_count": 162,
   "metadata": {
    "collapsed": true
   },
   "outputs": [],
   "source": [
    "import pandas as pd\n",
    "import numpy as np\n",
    "\n",
    "confirmed_cases_10_9 = pd.read_csv('confirmed_cases_10_9_2021.csv')\n",
    "vaccines_administered_csv = pd.read_csv('time_series_covid19_vaccine_doses_admin_US.csv')\n",
    "\n",
    "vaccines_administered_col = []\n",
    "for index, row in confirmed_cases_10_9.iterrows():\n",
    "    state = row['Province_State']\n",
    "    vaccines_administered = vaccines_administered_csv.loc[vaccines_administered_csv['Province_State'] == state]['2021-10-09']\n",
    "    vaccines_administered_col.append(int(vaccines_administered))\n",
    "confirmed_cases_10_9['vaccine_doses_administered_in_state'] = vaccines_administered_col\n",
    "\n",
    "# drop rows which has empty cell on counties column ('Admin2'):\n",
    "confirmed_cases_10_9.dropna(subset = ['Admin2'], inplace=True)\n",
    "\n",
    "# Make a CSV of the dataframe\n",
    "confirmed_cases_10_9.to_csv('confirmed_cases_10_9_2021_modified.csv', index=False)"
   ]
  },
  {
   "cell_type": "code",
   "execution_count": 169,
   "outputs": [],
   "source": [
    "# make a temporary dataframe copy confirmed_cases_4_1\n",
    "tmp_main_df = confirmed_cases_10_9.copy(deep=True)\n",
    "\n",
    "\n",
    "# read the co-est2020-alldata.csv file at same it into the new dataframe\n",
    "co_est2020_alldata_df = pd.read_csv('co-est2020-alldata.csv', delimiter=',', encoding='ISO-8859-1')\n"
   ],
   "metadata": {
    "collapsed": false,
    "pycharm": {
     "name": "#%%\n"
    }
   }
  },
  {
   "cell_type": "code",
   "execution_count": 200,
   "outputs": [],
   "source": [
    "# name_of_state = []\n",
    "# for name in confirmed_cases_10_9['Admin2']:\n",
    "#     # find the name of state associated with county in confirmed_cases_10_9 dataframe\n",
    "#     name_of_state.append(confirmed_cases_10_9.loc[confirmed_cases_10_9['Admin2'] == name, 'Province_State'].iloc[0])\n",
    "#\n",
    "# print(name_of_state)\n",
    "# print(\"here:\", co_est2020_alldata_df.filter(items=['Alabama']))\n",
    "\n",
    "\n",
    "test = []\n",
    "\n",
    "def match_func(name_of_county, main_df, alldata_df):\n",
    "    # find the name of state associated with county in confirmed_cases_10_9 dataframe\n",
    "    name_of_state = main_df.loc[main_df['Admin2'] == name_of_county, 'Province_State'].iloc[0]\n",
    "\n",
    "    # filter co_est2020_alldata_df dataframe based on the name_of_state\n",
    "    all_df_modified = alldata_df.loc[alldata_df['STNAME'] == name_of_state]\n",
    "\n",
    "    # check the 'name_of_county' if it is match with any of the value in 'CYNAME' column in all_df_modified\n",
    "    # if it is then returns the 'POPESTIMATE2020' associated to the value of 'CYNAME'\n",
    "    # print(main_df['Admin2'] == name_of_county)\n",
    "    try:\n",
    "        return all_df_modified.loc[all_df_modified['CTYNAME'].str.contains(name_of_county), 'POPESTIMATE2020'].iloc[0]\n",
    "    except:\n",
    "        return 0\n",
    "\n",
    "# print(match_func('Autauga', tmp_main_df, co_est2020_alldata_df))\n",
    "\n",
    "        # return (all_df_modified['POPESTIMATE2020'].where(name_of_county is in all_df_modified['CYNAME']))\n",
    "test.append(tmp_main_df['Admin2'].apply(lambda x: match_func(x, tmp_main_df, co_est2020_alldata_df)))\n",
    "# print(test)\n",
    "# tmp_main_df['POPESTIMATE2020'] = test\n",
    "# tmp_main_df.to_csv('tmp_main_df.csv')"
   ],
   "metadata": {
    "collapsed": false,
    "pycharm": {
     "name": "#%%\n"
    }
   }
  },
  {
   "cell_type": "code",
   "execution_count": null,
   "outputs": [],
   "source": [],
   "metadata": {
    "collapsed": false,
    "pycharm": {
     "name": "#%%\n"
    }
   }
  }
 ],
 "metadata": {
  "kernelspec": {
   "display_name": "Python 3",
   "language": "python",
   "name": "python3"
  },
  "language_info": {
   "codemirror_mode": {
    "name": "ipython",
    "version": 2
   },
   "file_extension": ".py",
   "mimetype": "text/x-python",
   "name": "python",
   "nbconvert_exporter": "python",
   "pygments_lexer": "ipython2",
   "version": "2.7.6"
  }
 },
 "nbformat": 4,
 "nbformat_minor": 0
}